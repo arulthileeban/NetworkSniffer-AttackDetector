{
 "cells": [
  {
   "cell_type": "code",
   "execution_count": 1,
   "metadata": {},
   "outputs": [
    {
     "name": "stdout",
     "output_type": "stream",
     "text": [
      "{'i': 47, 'b': 40, 'd': 42, '?': 31, 'r': 56, '{': 65, '$': 4, ';': 27, '`': 38, 'h': 46, ']': 35, 'k': 49, '\"': 2, '~': 68, 'o': 53, '|': 66, '9': 25, 'x': 62, ')': 9, ',': 12, 'p': 54, 'j': 48, '/': 15, 'l': 50, '@': 32, 'e': 43, '6': 22, ' ': 0, '3': 19, '\\\\': 34, '%': 5, '*': 10, \"'\": 7, '^': 36, '.': 14, '_': 37, ':': 26, '4': 20, '!': 1, '-': 13, 'y': 63, '[': 33, 'w': 61, 'v': 60, '1': 17, 'f': 44, 'c': 41, '+': 11, '&': 6, '>': 30, '<': 28, 'a': 39, 'g': 45, '#': 3, 'q': 55, '5': 21, '7': 23, 'm': 51, 't': 58, 'u': 59, 's': 57, '(': 8, '}': 67, 'n': 52, '=': 29, '2': 18, '8': 24, '0': 16, 'z': 64}\n"
     ]
    }
   ],
   "source": [
    "import re\n",
    "import string\n",
    "\n",
    "\n",
    "chars = sorted((string.ascii_lowercase+string.punctuation+string.digits+\" \"))\n",
    "n_vocab = len(chars)\n",
    "data_map = dict((c, i) for i, c in enumerate(chars))\n",
    "print(data_map) \n"
   ]
  },
  {
   "cell_type": "code",
   "execution_count": 2,
   "metadata": {},
   "outputs": [
    {
     "name": "stdout",
     "output_type": "stream",
     "text": [
      "['get http://localhost:8080/tienda1/index.jsp', 'get http://localhost:8080/tienda1/publico/anadir.jsp?id=3&nombre=vino+rioja&precio=100&cantidad=55&b1=a%f1adir+al+carrito', 'post http://localhost:8080/tienda1/publico/anadir.jsp', 'get http://localhost:8080/tienda1/publico/autenticar.jsp?modo=entrar&login=choong&pwd=d1se3ci%f3n&remember=off&b1=entrar', 'post http://localhost:8080/tienda1/publico/autenticar.jsp', 'get http://localhost:8080/tienda1/publico/caracteristicas.jsp?id=2', 'post http://localhost:8080/tienda1/publico/caracteristicas.jsp', 'get http://localhost:8080/tienda1/publico/carrito.jsp', 'get http://localhost:8080/tienda1/publico/entrar.jsp?errormsg=credenciales+incorrectas', 'post http://localhost:8080/tienda1/publico/entrar.jsp', 'get http://localhost:8080/tienda1/publico/miembros.jsp', 'get http://localhost:8080/tienda1/publico/pagar.jsp?modo=insertar&precio=2672&b1=pasar+por+caja', 'post http://localhost:8080/tienda1/publico/pagar.jsp', 'get http://localhost:8080/tienda1/publico/productos.jsp', 'get http://localhost:8080/tienda1/publico/registro.jsp?modo=registro&login=cen&password=40a5e&nombre=nurit&apellidos=ferrandez+caba%f1as&email=tarpey%40bwds.ne&dni=17621392b&direccion=calle+clavel+30+11%3fb&ciudad=tronch%f3n&cp=17463&provincia=c%e1ceres&ntc=1527409541807001&b1=registrar', 'post http://localhost:8080/tienda1/publico/registro.jsp', 'get http://localhost:8080/tienda1/publico/vaciar.jsp?b2=vaciar+carrito', 'post http://localhost:8080/tienda1/publico/vaciar.jsp', 'get http://localhost:8080/tienda1/global/creditos.jsp', 'get http://localhost:8080/tienda1/global/menum.jsp']\n"
     ]
    }
   ],
   "source": [
    "\n",
    "with open('normalTrafficTraining.txt') as f:\n",
    "    arr = f.readlines()\n",
    "    content = ''.join(arr)\n",
    "    items = re.findall(\"^GET.*|POST.*$\", content, re.MULTILINE)\n",
    "    dataset = []\n",
    "    for item in items:\n",
    "        temp_data = item.replace(\" HTTP/1.1\",\"\").lower()\n",
    "        dataset.append(temp_data)\n",
    "print(dataset[:20])\n",
    "\n",
    "    "
   ]
  },
  {
   "cell_type": "code",
   "execution_count": 3,
   "metadata": {},
   "outputs": [
    {
     "name": "stdout",
     "output_type": "stream",
     "text": [
      "Total Patterns:  36000\n"
     ]
    }
   ],
   "source": [
    "# prepare the dataset of input to output pairs encoded as integers\n",
    "dataX = []\n",
    "dataY = []\n",
    "max_length=0\n",
    "for data in dataset:\n",
    "    max_length = max(max_length, len(data) - 1)\n",
    "\n",
    "for data in dataset:\n",
    "    seq_in = data[:len(data)-1]\n",
    "    seq_out = data[1:]\n",
    "    \n",
    "    padding = [-n_vocab]*(max_length-len(seq_in))\n",
    "    seq_encoding = [data_map[data_char] for data_char in seq_in]\n",
    "    input_vector = seq_encoding + padding\n",
    "\n",
    "    dataX.append(input_vector)\n",
    "    dataY.append([data_map[data_char] for data_char in seq_out])\n",
    "\n",
    "n_patterns = len(dataX)\n",
    "\n",
    "print(\"Total Patterns: \", n_patterns)\n"
   ]
  },
  {
   "cell_type": "code",
   "execution_count": null,
   "metadata": {
    "scrolled": false
   },
   "outputs": [
    {
     "name": "stderr",
     "output_type": "stream",
     "text": [
      "Using TensorFlow backend.\n"
     ]
    }
   ],
   "source": [
    "import numpy\n",
    "from keras.utils import np_utils\n",
    "\n",
    "# reshape X to be [samples, time steps, features]\n",
    "X = numpy.reshape(dataX, (n_patterns, max_length, 1))\n",
    "# normalize\n",
    "X = X / float(n_vocab)\n",
    "# one hot encode the output variable\n",
    "temp_y = []\n",
    "max_timesteps = max_length\n",
    "for values in dataY:\n",
    "    one_hot_encoding = []\n",
    "    for value in values:\n",
    "        temp = [0.0 for _ in range(n_vocab)]\n",
    "        temp[value] = 1.0\n",
    "        one_hot_encoding.append(temp)\n",
    "    temp = [0.0 for _ in range(n_vocab)]\n",
    "    for _ in range(361 - len(one_hot_encoding)):\n",
    "        one_hot_encoding.append(temp)\n",
    "    temp_y.append(one_hot_encoding)\n"
   ]
  },
  {
   "cell_type": "code",
   "execution_count": null,
   "metadata": {
    "scrolled": true
   },
   "outputs": [],
   "source": [
    "temp_y = numpy.reshape(temp_y, (n_patterns, max_length, n_vocab))\n",
    "print(temp_y.shape)"
   ]
  },
  {
   "cell_type": "code",
   "execution_count": null,
   "metadata": {},
   "outputs": [],
   "source": [
    "from keras.models import Sequential\n",
    "from keras.layers import LSTM\n",
    "from keras.layers import Masking\n",
    "from keras.layers import Dense\n",
    "from keras.layers import TimeDistributed\n",
    "\n",
    "model = Sequential()\n",
    "model.add(Masking(mask_value = -1.0, input_shape = (max_length, 1)))\n",
    "model.add(LSTM(50, input_shape = (max_length, 1), return_sequences = True))\n",
    "\n",
    "model.add(TimeDistributed(Dense(y[0].shape[1], activation='softmax')))\n",
    "model.compile(loss='categorical_crossentropy', optimizer='adam')"
   ]
  },
  {
   "cell_type": "code",
   "execution_count": null,
   "metadata": {},
   "outputs": [],
   "source": [
    "model.fit(X, y, epochs=2, batch_size=10, verbose=2)"
   ]
  },
  {
   "cell_type": "code",
   "execution_count": null,
   "metadata": {},
   "outputs": [],
   "source": []
  },
  {
   "cell_type": "code",
   "execution_count": null,
   "metadata": {},
   "outputs": [],
   "source": []
  }
 ],
 "metadata": {
  "kernelspec": {
   "display_name": "Python 3",
   "language": "python",
   "name": "python3"
  },
  "language_info": {
   "codemirror_mode": {
    "name": "ipython",
    "version": 3
   },
   "file_extension": ".py",
   "mimetype": "text/x-python",
   "name": "python",
   "nbconvert_exporter": "python",
   "pygments_lexer": "ipython3",
   "version": "3.5.2"
  }
 },
 "nbformat": 4,
 "nbformat_minor": 2
}

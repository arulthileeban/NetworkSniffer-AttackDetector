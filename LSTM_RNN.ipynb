{
 "cells": [
  {
   "cell_type": "code",
   "execution_count": 3,
   "metadata": {},
   "outputs": [
    {
     "name": "stdout",
     "output_type": "stream",
     "text": [
      "{' ': 0, '!': 1, '\"': 2, '#': 3, '$': 4, '%': 5, '&': 6, \"'\": 7, '(': 8, ')': 9, '*': 10, '+': 11, ',': 12, '-': 13, '.': 14, '/': 15, '0': 16, '1': 17, '2': 18, '3': 19, '4': 20, '5': 21, '6': 22, '7': 23, '8': 24, '9': 25, ':': 26, ';': 27, '<': 28, '=': 29, '>': 30, '?': 31, '@': 32, '[': 33, '\\\\': 34, ']': 35, '^': 36, '_': 37, '`': 38, 'a': 39, 'b': 40, 'c': 41, 'd': 42, 'e': 43, 'f': 44, 'g': 45, 'h': 46, 'i': 47, 'j': 48, 'k': 49, 'l': 50, 'm': 51, 'n': 52, 'o': 53, 'p': 54, 'q': 55, 'r': 56, 's': 57, 't': 58, 'u': 59, 'v': 60, 'w': 61, 'x': 62, 'y': 63, 'z': 64, '{': 65, '|': 66, '}': 67, '~': 68}\n"
     ]
    }
   ],
   "source": [
    "import re\n",
    "import string\n",
    "\n",
    "\n",
    "chars = sorted((string.ascii_lowercase+string.punctuation+string.digits+\" \"))\n",
    "n_vocab = len(chars)\n",
    "data_map = dict((c, i) for i, c in enumerate(chars))\n",
    "print(data_map)\n"
   ]
  },
  {
   "cell_type": "code",
   "execution_count": 4,
   "metadata": {},
   "outputs": [
    {
     "name": "stdout",
     "output_type": "stream",
     "text": [
      "['get http://localhost:8080/tienda1/index.jsp', 'get http://localhost:8080/tienda1/publico/anadir.jsp?id=3&nombre=vino+rioja&precio=100&cantidad=55&b1=a%f1adir+al+carrito', 'post http://localhost:8080/tienda1/publico/anadir.jsp', 'get http://localhost:8080/tienda1/publico/autenticar.jsp?modo=entrar&login=choong&pwd=d1se3ci%f3n&remember=off&b1=entrar', 'post http://localhost:8080/tienda1/publico/autenticar.jsp', 'get http://localhost:8080/tienda1/publico/caracteristicas.jsp?id=2', 'post http://localhost:8080/tienda1/publico/caracteristicas.jsp', 'get http://localhost:8080/tienda1/publico/carrito.jsp', 'get http://localhost:8080/tienda1/publico/entrar.jsp?errormsg=credenciales+incorrectas', 'post http://localhost:8080/tienda1/publico/entrar.jsp', 'get http://localhost:8080/tienda1/publico/miembros.jsp', 'get http://localhost:8080/tienda1/publico/pagar.jsp?modo=insertar&precio=2672&b1=pasar+por+caja', 'post http://localhost:8080/tienda1/publico/pagar.jsp', 'get http://localhost:8080/tienda1/publico/productos.jsp', 'get http://localhost:8080/tienda1/publico/registro.jsp?modo=registro&login=cen&password=40a5e&nombre=nurit&apellidos=ferrandez+caba%f1as&email=tarpey%40bwds.ne&dni=17621392b&direccion=calle+clavel+30+11%3fb&ciudad=tronch%f3n&cp=17463&provincia=c%e1ceres&ntc=1527409541807001&b1=registrar', 'post http://localhost:8080/tienda1/publico/registro.jsp', 'get http://localhost:8080/tienda1/publico/vaciar.jsp?b2=vaciar+carrito', 'post http://localhost:8080/tienda1/publico/vaciar.jsp', 'get http://localhost:8080/tienda1/global/creditos.jsp', 'get http://localhost:8080/tienda1/global/menum.jsp', 'get http://localhost:8080/tienda1/global/titulo.jsp', 'get http://localhost:8080/tienda1/global/estilos.css', 'get http://localhost:8080/tienda1/miembros/imagenes/castro.jpg', 'get http://localhost:8080/tienda1/miembros/imagenes/ogono.jpg', 'get http://localhost:8080/tienda1/miembros/imagenes/zarauz.jpg', 'get http://localhost:8080/tienda1/miembros/index.jsp', 'get http://localhost:8080/tienda1/miembros/editar.jsp?modo=registro&login=de_la&password=roder%f3n&nombre=franklin&apellidos=canella&email=pockaj-bushman%40lecriture.md&dni=29283698y&direccion=calle+palencia+s%2fn+&ciudad=tirapu&cp=25320&provincia=madrid&ntc=4789967077221120&b1=registrar', 'post http://localhost:8080/tienda1/miembros/editar.jsp', 'get http://localhost:8080/tienda1/miembros/fotos.jsp', 'get http://localhost:8080/tienda1/miembros/salir.jsp', 'get http://localhost:8080/tienda1/imagenes/1.gif', 'get http://localhost:8080/tienda1/imagenes/2.gif', 'get http://localhost:8080/tienda1/imagenes/3.gif', 'get http://localhost:8080/tienda1/imagenes/cmenbul.gif', 'get http://localhost:8080/tienda1/imagenes/logo.gif', 'get http://localhost:8080/tienda1/imagenes/nuestratierra.jpg', 'get http://localhost:8080/tienda1/index.jsp', 'get http://localhost:8080/tienda1/publico/anadir.jsp?id=3&nombre=queso+manchego&precio=100&cantidad=55&b1=a%f1adir+al+carrito', 'post http://localhost:8080/tienda1/publico/anadir.jsp', 'get http://localhost:8080/tienda1/publico/autenticar.jsp?modo=entrar&login=magrath&pwd=1an0re%e15354&remember=off&b1=entrar', 'post http://localhost:8080/tienda1/publico/autenticar.jsp', 'get http://localhost:8080/tienda1/publico/caracteristicas.jsp?id=1', 'post http://localhost:8080/tienda1/publico/caracteristicas.jsp', 'get http://localhost:8080/tienda1/publico/carrito.jsp', 'get http://localhost:8080/tienda1/publico/entrar.jsp?errormsg=credenciales+incorrectas', 'post http://localhost:8080/tienda1/publico/entrar.jsp', 'get http://localhost:8080/tienda1/publico/miembros.jsp', 'get http://localhost:8080/tienda1/publico/pagar.jsp?modo=insertar&precio=958&b1=pasar+por+caja', 'post http://localhost:8080/tienda1/publico/pagar.jsp', 'get http://localhost:8080/tienda1/publico/productos.jsp']\n"
     ]
    }
   ],
   "source": [
    "\n",
    "with open('normalTrafficTraining.txt') as f:\n",
    "    arr = f.readlines()\n",
    "    content = ''.join(arr)\n",
    "    items = re.findall(\"^GET.*|POST.*$\", content, re.MULTILINE)\n",
    "    dataset = []\n",
    "    for item in items:\n",
    "        temp_data = item.replace(\" HTTP/1.1\",\"\").lower()\n",
    "        dataset.append(temp_data)\n",
    "print(dataset[:50])\n",
    "\n",
    "    "
   ]
  },
  {
   "cell_type": "code",
   "execution_count": 5,
   "metadata": {},
   "outputs": [
    {
     "name": "stdout",
     "output_type": "stream",
     "text": [
      "Total Patterns:  36000\n"
     ]
    }
   ],
   "source": [
    "# prepare the dataset of input to output pairs encoded as integers\n",
    "dataX = []\n",
    "dataY = []\n",
    "max_length=0\n",
    "for data in dataset:\n",
    "    max_length = max(max_length, len(data) - 1)\n",
    "\n",
    "for data in dataset:\n",
    "    seq_in = data[:len(data)-1]\n",
    "    seq_out = data[1:]\n",
    "    \n",
    "    padding = [-n_vocab]*(max_length-len(seq_in))\n",
    "    seq_encoding = [data_map[data_char] for data_char in seq_in]\n",
    "    input_vector = seq_encoding + padding\n",
    "\n",
    "    dataX.append(input_vector)\n",
    "    dataY.append([data_map[data_char] for data_char in seq_out])\n",
    "\n",
    "n_patterns = len(dataX)\n",
    "\n",
    "print(\"Total Patterns: \", n_patterns)\n"
   ]
  },
  {
   "cell_type": "code",
   "execution_count": 78,
   "metadata": {},
   "outputs": [],
   "source": [
    "import numpy\n",
    "from keras.utils import np_utils\n",
    "\n",
    "# reshape X to be [samples, time steps, features]\n",
    "X = numpy.reshape(dataX, (n_patterns, max_length, 1))\n",
    "# normalize\n",
    "X = X / float(n_vocab)\n",
    "# one hot encode the output variable\n",
    "temp_y = []\n",
    "max_timesteps = max_length\n",
    "for values in dataY:\n",
    "    one_hot_encoding = []\n",
    "    for value in values:\n",
    "        temp = [0.0 for _ in range(n_vocab)]\n",
    "        temp[value] = 1.0\n",
    "        one_hot_encoding.append(temp)\n",
    "    temp = [0.0 for _ in range(n_vocab)]\n",
    "    for _ in range(361 - len(one_hot_encoding)):\n",
    "        one_hot_encoding.append(temp)\n",
    "    temp_y.append(one_hot_encoding)\n"
   ]
  },
  {
   "cell_type": "code",
   "execution_count": 79,
   "metadata": {},
   "outputs": [
    {
     "name": "stdout",
     "output_type": "stream",
     "text": [
      "(36000, 361, 69)\n"
     ]
    }
   ],
   "source": [
    "y = numpy.reshape(temp_y, (n_patterns, max_length, n_vocab))\n",
    "print(y.shape)"
   ]
  },
  {
   "cell_type": "code",
   "execution_count": 80,
   "metadata": {},
   "outputs": [],
   "source": [
    "from keras.models import Sequential\n",
    "from keras.layers import LSTM\n",
    "from keras.layers import Masking\n",
    "from keras.layers import Dense\n",
    "from keras.layers import TimeDistributed\n",
    "\n",
    "model = Sequential()\n",
    "model.add(Masking(mask_value = -1.0, input_shape = (max_length, 1)))\n",
    "model.add(LSTM(50, input_shape = (max_length, 1), return_sequences = True))\n",
    "\n",
    "model.add(TimeDistributed(Dense(y[0].shape[1], activation='softmax')))\n",
    "model.compile(loss='categorical_crossentropy', optimizer='adam')"
   ]
  },
  {
   "cell_type": "code",
   "execution_count": 82,
   "metadata": {},
   "outputs": [
    {
     "name": "stdout",
     "output_type": "stream",
     "text": [
      "Epoch 1/1\n"
     ]
    },
    {
     "ename": "KeyboardInterrupt",
     "evalue": "",
     "output_type": "error",
     "traceback": [
      "\u001b[1;31m---------------------------------------------------------------------------\u001b[0m",
      "\u001b[1;31mKeyboardInterrupt\u001b[0m                         Traceback (most recent call last)",
      "\u001b[1;32m<ipython-input-82-4efa1eb06052>\u001b[0m in \u001b[0;36m<module>\u001b[1;34m()\u001b[0m\n\u001b[1;32m----> 1\u001b[1;33m \u001b[0mmodel\u001b[0m\u001b[1;33m.\u001b[0m\u001b[0mfit\u001b[0m\u001b[1;33m(\u001b[0m\u001b[0mX\u001b[0m\u001b[1;33m,\u001b[0m \u001b[0my\u001b[0m\u001b[1;33m,\u001b[0m \u001b[0mepochs\u001b[0m\u001b[1;33m=\u001b[0m\u001b[1;36m1\u001b[0m\u001b[1;33m,\u001b[0m \u001b[0mbatch_size\u001b[0m\u001b[1;33m=\u001b[0m\u001b[1;36m10\u001b[0m\u001b[1;33m,\u001b[0m \u001b[0mverbose\u001b[0m\u001b[1;33m=\u001b[0m\u001b[1;36m2\u001b[0m\u001b[1;33m)\u001b[0m\u001b[1;33m\u001b[0m\u001b[0m\n\u001b[0m",
      "\u001b[1;32mC:\\Program Files (x86)\\Microsoft Visual Studio\\Shared\\Anaconda3_64\\lib\\site-packages\\keras\\engine\\training.py\u001b[0m in \u001b[0;36mfit\u001b[1;34m(self, x, y, batch_size, epochs, verbose, callbacks, validation_split, validation_data, shuffle, class_weight, sample_weight, initial_epoch, steps_per_epoch, validation_steps, **kwargs)\u001b[0m\n\u001b[0;32m   1035\u001b[0m                                         \u001b[0minitial_epoch\u001b[0m\u001b[1;33m=\u001b[0m\u001b[0minitial_epoch\u001b[0m\u001b[1;33m,\u001b[0m\u001b[1;33m\u001b[0m\u001b[0m\n\u001b[0;32m   1036\u001b[0m                                         \u001b[0msteps_per_epoch\u001b[0m\u001b[1;33m=\u001b[0m\u001b[0msteps_per_epoch\u001b[0m\u001b[1;33m,\u001b[0m\u001b[1;33m\u001b[0m\u001b[0m\n\u001b[1;32m-> 1037\u001b[1;33m                                         validation_steps=validation_steps)\n\u001b[0m\u001b[0;32m   1038\u001b[0m \u001b[1;33m\u001b[0m\u001b[0m\n\u001b[0;32m   1039\u001b[0m     def evaluate(self, x=None, y=None,\n",
      "\u001b[1;32mC:\\Program Files (x86)\\Microsoft Visual Studio\\Shared\\Anaconda3_64\\lib\\site-packages\\keras\\engine\\training_arrays.py\u001b[0m in \u001b[0;36mfit_loop\u001b[1;34m(model, f, ins, out_labels, batch_size, epochs, verbose, callbacks, val_f, val_ins, shuffle, callback_metrics, initial_epoch, steps_per_epoch, validation_steps)\u001b[0m\n\u001b[0;32m    197\u001b[0m                     \u001b[0mins_batch\u001b[0m\u001b[1;33m[\u001b[0m\u001b[0mi\u001b[0m\u001b[1;33m]\u001b[0m \u001b[1;33m=\u001b[0m \u001b[0mins_batch\u001b[0m\u001b[1;33m[\u001b[0m\u001b[0mi\u001b[0m\u001b[1;33m]\u001b[0m\u001b[1;33m.\u001b[0m\u001b[0mtoarray\u001b[0m\u001b[1;33m(\u001b[0m\u001b[1;33m)\u001b[0m\u001b[1;33m\u001b[0m\u001b[0m\n\u001b[0;32m    198\u001b[0m \u001b[1;33m\u001b[0m\u001b[0m\n\u001b[1;32m--> 199\u001b[1;33m                 \u001b[0mouts\u001b[0m \u001b[1;33m=\u001b[0m \u001b[0mf\u001b[0m\u001b[1;33m(\u001b[0m\u001b[0mins_batch\u001b[0m\u001b[1;33m)\u001b[0m\u001b[1;33m\u001b[0m\u001b[0m\n\u001b[0m\u001b[0;32m    200\u001b[0m                 \u001b[0mouts\u001b[0m \u001b[1;33m=\u001b[0m \u001b[0mto_list\u001b[0m\u001b[1;33m(\u001b[0m\u001b[0mouts\u001b[0m\u001b[1;33m)\u001b[0m\u001b[1;33m\u001b[0m\u001b[0m\n\u001b[0;32m    201\u001b[0m                 \u001b[1;32mfor\u001b[0m \u001b[0ml\u001b[0m\u001b[1;33m,\u001b[0m \u001b[0mo\u001b[0m \u001b[1;32min\u001b[0m \u001b[0mzip\u001b[0m\u001b[1;33m(\u001b[0m\u001b[0mout_labels\u001b[0m\u001b[1;33m,\u001b[0m \u001b[0mouts\u001b[0m\u001b[1;33m)\u001b[0m\u001b[1;33m:\u001b[0m\u001b[1;33m\u001b[0m\u001b[0m\n",
      "\u001b[1;32mC:\\Program Files (x86)\\Microsoft Visual Studio\\Shared\\Anaconda3_64\\lib\\site-packages\\keras\\backend\\tensorflow_backend.py\u001b[0m in \u001b[0;36m__call__\u001b[1;34m(self, inputs)\u001b[0m\n\u001b[0;32m   2664\u001b[0m                 \u001b[1;32mreturn\u001b[0m \u001b[0mself\u001b[0m\u001b[1;33m.\u001b[0m\u001b[0m_legacy_call\u001b[0m\u001b[1;33m(\u001b[0m\u001b[0minputs\u001b[0m\u001b[1;33m)\u001b[0m\u001b[1;33m\u001b[0m\u001b[0m\n\u001b[0;32m   2665\u001b[0m \u001b[1;33m\u001b[0m\u001b[0m\n\u001b[1;32m-> 2666\u001b[1;33m             \u001b[1;32mreturn\u001b[0m \u001b[0mself\u001b[0m\u001b[1;33m.\u001b[0m\u001b[0m_call\u001b[0m\u001b[1;33m(\u001b[0m\u001b[0minputs\u001b[0m\u001b[1;33m)\u001b[0m\u001b[1;33m\u001b[0m\u001b[0m\n\u001b[0m\u001b[0;32m   2667\u001b[0m         \u001b[1;32melse\u001b[0m\u001b[1;33m:\u001b[0m\u001b[1;33m\u001b[0m\u001b[0m\n\u001b[0;32m   2668\u001b[0m             \u001b[1;32mif\u001b[0m \u001b[0mpy_any\u001b[0m\u001b[1;33m(\u001b[0m\u001b[0mis_tensor\u001b[0m\u001b[1;33m(\u001b[0m\u001b[0mx\u001b[0m\u001b[1;33m)\u001b[0m \u001b[1;32mfor\u001b[0m \u001b[0mx\u001b[0m \u001b[1;32min\u001b[0m \u001b[0minputs\u001b[0m\u001b[1;33m)\u001b[0m\u001b[1;33m:\u001b[0m\u001b[1;33m\u001b[0m\u001b[0m\n",
      "\u001b[1;32mC:\\Program Files (x86)\\Microsoft Visual Studio\\Shared\\Anaconda3_64\\lib\\site-packages\\keras\\backend\\tensorflow_backend.py\u001b[0m in \u001b[0;36m_call\u001b[1;34m(self, inputs)\u001b[0m\n\u001b[0;32m   2634\u001b[0m                                 \u001b[0msymbol_vals\u001b[0m\u001b[1;33m,\u001b[0m\u001b[1;33m\u001b[0m\u001b[0m\n\u001b[0;32m   2635\u001b[0m                                 session)\n\u001b[1;32m-> 2636\u001b[1;33m         \u001b[0mfetched\u001b[0m \u001b[1;33m=\u001b[0m \u001b[0mself\u001b[0m\u001b[1;33m.\u001b[0m\u001b[0m_callable_fn\u001b[0m\u001b[1;33m(\u001b[0m\u001b[1;33m*\u001b[0m\u001b[0marray_vals\u001b[0m\u001b[1;33m)\u001b[0m\u001b[1;33m\u001b[0m\u001b[0m\n\u001b[0m\u001b[0;32m   2637\u001b[0m         \u001b[1;32mreturn\u001b[0m \u001b[0mfetched\u001b[0m\u001b[1;33m[\u001b[0m\u001b[1;33m:\u001b[0m\u001b[0mlen\u001b[0m\u001b[1;33m(\u001b[0m\u001b[0mself\u001b[0m\u001b[1;33m.\u001b[0m\u001b[0moutputs\u001b[0m\u001b[1;33m)\u001b[0m\u001b[1;33m]\u001b[0m\u001b[1;33m\u001b[0m\u001b[0m\n\u001b[0;32m   2638\u001b[0m \u001b[1;33m\u001b[0m\u001b[0m\n",
      "\u001b[1;32mC:\\Program Files (x86)\\Microsoft Visual Studio\\Shared\\Anaconda3_64\\lib\\site-packages\\tensorflow\\python\\client\\session.py\u001b[0m in \u001b[0;36m__call__\u001b[1;34m(self, *args, **kwargs)\u001b[0m\n\u001b[0;32m   1380\u001b[0m           ret = tf_session.TF_SessionRunCallable(\n\u001b[0;32m   1381\u001b[0m               \u001b[0mself\u001b[0m\u001b[1;33m.\u001b[0m\u001b[0m_session\u001b[0m\u001b[1;33m.\u001b[0m\u001b[0m_session\u001b[0m\u001b[1;33m,\u001b[0m \u001b[0mself\u001b[0m\u001b[1;33m.\u001b[0m\u001b[0m_handle\u001b[0m\u001b[1;33m,\u001b[0m \u001b[0margs\u001b[0m\u001b[1;33m,\u001b[0m \u001b[0mstatus\u001b[0m\u001b[1;33m,\u001b[0m\u001b[1;33m\u001b[0m\u001b[0m\n\u001b[1;32m-> 1382\u001b[1;33m               run_metadata_ptr)\n\u001b[0m\u001b[0;32m   1383\u001b[0m         \u001b[1;32mif\u001b[0m \u001b[0mrun_metadata\u001b[0m\u001b[1;33m:\u001b[0m\u001b[1;33m\u001b[0m\u001b[0m\n\u001b[0;32m   1384\u001b[0m           \u001b[0mproto_data\u001b[0m \u001b[1;33m=\u001b[0m \u001b[0mtf_session\u001b[0m\u001b[1;33m.\u001b[0m\u001b[0mTF_GetBuffer\u001b[0m\u001b[1;33m(\u001b[0m\u001b[0mrun_metadata_ptr\u001b[0m\u001b[1;33m)\u001b[0m\u001b[1;33m\u001b[0m\u001b[0m\n",
      "\u001b[1;31mKeyboardInterrupt\u001b[0m: "
     ]
    }
   ],
   "source": [
    "model.fit(X, y, epochs=1, batch_size=10, verbose=2)"
   ]
  },
  {
   "cell_type": "code",
   "execution_count": null,
   "metadata": {},
   "outputs": [],
   "source": []
  },
  {
   "cell_type": "code",
   "execution_count": null,
   "metadata": {},
   "outputs": [],
   "source": []
  }
 ],
 "metadata": {
  "kernelspec": {
   "display_name": "Python 3",
   "language": "python",
   "name": "python3"
  },
  "language_info": {
   "codemirror_mode": {
    "name": "ipython",
    "version": 3
   },
   "file_extension": ".py",
   "mimetype": "text/x-python",
   "name": "python",
   "nbconvert_exporter": "python",
   "pygments_lexer": "ipython3",
   "version": "3.6.4"
  }
 },
 "nbformat": 4,
 "nbformat_minor": 2
}

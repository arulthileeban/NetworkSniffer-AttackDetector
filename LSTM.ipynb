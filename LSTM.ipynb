{
 "cells": [
  {
   "cell_type": "code",
   "execution_count": 1,
   "metadata": {},
   "outputs": [
    {
     "name": "stderr",
     "output_type": "stream",
     "text": [
      "Using TensorFlow backend.\n"
     ]
    }
   ],
   "source": [
    "import re\n",
    "import string\n",
    "import numpy\n",
    "from keras.models import Sequential\n",
    "from keras.layers import LSTM\n",
    "from keras.layers import Masking\n",
    "from keras.layers import Dense\n",
    "from keras.layers import TimeDistributed"
   ]
  },
  {
   "cell_type": "code",
   "execution_count": 8,
   "metadata": {},
   "outputs": [],
   "source": [
    "with open('newData.txt') as f:\n",
    "    arr = f.readlines()\n",
    "    content = ''.join(arr)\n",
    "    items = re.findall(\"^GET.*|POST.*$\", content, re.MULTILINE)\n",
    "    data = \"\"\n",
    "    for item in items:\n",
    "        temp_data = item.replace(\" HTTP/1.1\",\"\").lower()\n",
    "        data = data + temp_data + \"\\n\""
   ]
  },
  {
   "cell_type": "code",
   "execution_count": 9,
   "metadata": {},
   "outputs": [],
   "source": [
    "chars = list(set(data + string.punctuation + string.ascii_lowercase + ' ' + string.digits))\n",
    "VOCAB_SIZE = len(chars)\n",
    "ix_to_char = {ix:char for ix, char in enumerate(chars)}\n",
    "char_to_ix = {char:ix for ix, char in enumerate(chars)}\n",
    "SEQ_LENGTH = 10\n",
    "#print(chars)\n",
    "DATA_LENGTH = int(len(data) / SEQ_LENGTH) \n",
    "#print(DATA_LENGTH, len(data))"
   ]
  },
  {
   "cell_type": "code",
   "execution_count": 10,
   "metadata": {},
   "outputs": [],
   "source": [
    "X = numpy.zeros((DATA_LENGTH, SEQ_LENGTH, VOCAB_SIZE))\n",
    "y = numpy.zeros((DATA_LENGTH, SEQ_LENGTH, VOCAB_SIZE))\n",
    "for i in range(0, DATA_LENGTH):\n",
    "    X_sequence = data[i*SEQ_LENGTH:(i+1)*SEQ_LENGTH]\n",
    "    X_sequence_ix = [char_to_ix[value] for value in X_sequence]\n",
    "    input_sequence = numpy.zeros((SEQ_LENGTH, VOCAB_SIZE))\n",
    "    for j in range(SEQ_LENGTH):\n",
    "        input_sequence[j][X_sequence_ix[j]] = 1.\n",
    "    X[i] = input_sequence\n",
    "\n",
    "    y_sequence = data[i*SEQ_LENGTH+1:(i+1)*SEQ_LENGTH+1]\n",
    "    y_sequence_ix = [char_to_ix[value] for value in y_sequence]\n",
    "    target_sequence = numpy.zeros((SEQ_LENGTH, VOCAB_SIZE))\n",
    "    for j in range(SEQ_LENGTH):\n",
    "        target_sequence[j][y_sequence_ix[j]] = 1.\n",
    "    y[i] = target_sequence"
   ]
  },
  {
   "cell_type": "code",
   "execution_count": 7,
   "metadata": {},
   "outputs": [],
   "source": [
    "model = Sequential()\n",
    "model.add(LSTM(50, input_shape=(None, VOCAB_SIZE), return_sequences=True))\n",
    "model.add(TimeDistributed(Dense(VOCAB_SIZE, activation='softmax')))\n",
    "model.compile(loss='categorical_crossentropy', optimizer='adam')"
   ]
  },
  {
   "cell_type": "code",
   "execution_count": 12,
   "metadata": {},
   "outputs": [
    {
     "name": "stderr",
     "output_type": "stream",
     "text": [
      "/usr/local/lib/python3.5/dist-packages/ipykernel_launcher.py:1: UserWarning: The `nb_epoch` argument in `fit` has been renamed `epochs`.\n",
      "  \"\"\"Entry point for launching an IPython kernel.\n"
     ]
    },
    {
     "name": "stdout",
     "output_type": "stream",
     "text": [
      "Epoch 1/1\n",
      "344792/344792 [==============================] - 7567s 22ms/step - loss: 0.8686\n"
     ]
    },
    {
     "data": {
      "text/plain": [
       "<keras.callbacks.History at 0x7fc1bc4e28d0>"
      ]
     },
     "execution_count": 12,
     "metadata": {},
     "output_type": "execute_result"
    }
   ],
   "source": [
    "model.fit(X, y, batch_size=1, verbose=1, nb_epoch=1)"
   ]
  },
  {
   "cell_type": "code",
   "execution_count": 13,
   "metadata": {},
   "outputs": [],
   "source": [
    "model.save('LSTMmodel.h5')"
   ]
  },
  {
   "cell_type": "code",
   "execution_count": 29,
   "metadata": {},
   "outputs": [],
   "source": [
    "data=[]\n",
    "with open('newTest.txt') as f:\n",
    "    arr = f.readlines()\n",
    "    content = ''.join(arr)\n",
    "    items = re.findall(\"^GET.*|POST.*$\", content, re.MULTILINE)\n",
    "    for item in items:\n",
    "        temp_data = item.replace(\" HTTP/1.1\",\"\").lower()\n",
    "        data.append(temp_data)"
   ]
  },
  {
   "cell_type": "code",
   "execution_count": 31,
   "metadata": {},
   "outputs": [
    {
     "name": "stdout",
     "output_type": "stream",
     "text": [
      "8.413071e-08\n",
      "1\n",
      "8.413071e-08\n",
      "2\n",
      "3\n",
      "4\n",
      "5.6062806e-08\n",
      "5\n",
      "6\n",
      "7\n",
      "8\n",
      "9\n",
      "10\n",
      "11\n",
      "12\n",
      "13\n",
      "14\n",
      "15\n",
      "16\n",
      "17\n",
      "18\n",
      "19\n",
      "20\n",
      "21\n",
      "22\n",
      "23\n",
      "24\n",
      "25\n",
      "26\n",
      "27\n",
      "28\n",
      "8.413071e-08\n",
      "29\n",
      "8.413071e-08\n",
      "30\n",
      "31\n",
      "32\n",
      "33\n",
      "34\n",
      "35\n",
      "36\n",
      "37\n",
      "38\n",
      "39\n",
      "40\n",
      "41\n",
      "42\n",
      "43\n",
      "44\n",
      "45\n",
      "46\n",
      "47\n",
      "48\n",
      "49\n",
      "50\n"
     ]
    }
   ],
   "source": [
    "ct=0\n",
    "j=0\n",
    "for seq in data[:50]:\n",
    "    j+=1\n",
    "    #print (seq)\n",
    "    probability=[]\n",
    "    X = numpy.zeros((1,len(seq),VOCAB_SIZE))\n",
    "    for i in range(1,len(seq),1):\n",
    "        ix = char_to_ix[seq[i-1]]\n",
    "        X[0,i,:][ix]=1\n",
    "        probability.append(model.predict(X[:,:i,:])[0][0][char_to_ix[seq[i]]])\n",
    "        #X = numpy.zeros((1,len(seq),VOCAB_SIZE))\n",
    "    #print(probability)\n",
    "    for i in probability:\n",
    "        if (i<0.00025):\n",
    "            print(i)\n",
    "    print(j)"
   ]
  },
  {
   "cell_type": "code",
   "execution_count": null,
   "metadata": {},
   "outputs": [],
   "source": [
    "#ix = [numpy.random.randint(VOCAB_SIZE)]\n",
    "#length = 100\n",
    "#y_char = [ix_to_char[ix[-1]]]\n",
    "#X = numpy.zeros((1,length,VOCAB_SIZE))\n",
    "#for i in range(5):\n",
    "#    X[0,i,:][ix[-1]]=1\n",
    "#    print(model.predict(X[:,:i+1,:]))"
   ]
  },
  {
   "cell_type": "code",
   "execution_count": null,
   "metadata": {},
   "outputs": [],
   "source": []
  }
 ],
 "metadata": {
  "kernelspec": {
   "display_name": "Python 3",
   "language": "python",
   "name": "python3"
  },
  "language_info": {
   "codemirror_mode": {
    "name": "ipython",
    "version": 3
   },
   "file_extension": ".py",
   "mimetype": "text/x-python",
   "name": "python",
   "nbconvert_exporter": "python",
   "pygments_lexer": "ipython3",
   "version": "3.5.2"
  }
 },
 "nbformat": 4,
 "nbformat_minor": 2
}

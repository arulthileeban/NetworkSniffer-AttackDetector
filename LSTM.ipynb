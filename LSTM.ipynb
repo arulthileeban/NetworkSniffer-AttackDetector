{
 "cells": [
  {
   "cell_type": "code",
   "execution_count": 9,
   "metadata": {},
   "outputs": [],
   "source": [
    "import re\n",
    "import string\n",
    "import numpy\n",
    "from keras.models import Sequential\n",
    "from keras.layers import LSTM\n",
    "from keras.layers import Masking\n",
    "from keras.layers import Dense\n",
    "from keras.layers import TimeDistributed"
   ]
  },
  {
   "cell_type": "code",
   "execution_count": 11,
   "metadata": {},
   "outputs": [],
   "source": [
    "with open('normalTrafficTraining.txt') as f:\n",
    "    arr = f.readlines()\n",
    "    content = ''.join(arr)\n",
    "    items = re.findall(\"^GET.*|POST.*$\", content, re.MULTILINE)\n",
    "    data = \"\"\n",
    "    for item in items:\n",
    "        temp_data = item.replace(\" HTTP/1.1\",\"\").lower()\n",
    "        data = data + temp_data + \"\\n\""
   ]
  },
  {
   "cell_type": "code",
   "execution_count": 17,
   "metadata": {},
   "outputs": [
    {
     "name": "stdout",
     "output_type": "stream",
     "text": [
      "['t', 'l', 'v', 'w', 'd', '7', '8', '\\\\', 'o', ')', 'e', '^', '+', '%', '_', '#', '>', 'n', 'r', '0', 'b', '$', '}', '`', '~', 'i', '?', 'j', 'c', 'h', 'a', '|', 'f', '/', ']', 's', '=', 'z', '@', '5', 'm', ' ', '3', '1', ';', '[', 'k', '{', ':', '2', '\"', '&', '(', 'g', 'x', 'p', '\\n', 'u', '6', 'y', '-', '*', '!', '.', ',', \"'\", '4', 'q', '<', '9']\n",
      "270749 2707494\n"
     ]
    }
   ],
   "source": [
    "chars = list(set(data + string.punctuation + string.ascii_lowercase + ' ' + string.digits))\n",
    "VOCAB_SIZE = len(chars)\n",
    "ix_to_char = {ix:char for ix, char in enumerate(chars)}\n",
    "char_to_ix = {char:ix for ix, char in enumerate(chars)}\n",
    "SEQ_LENGTH = 10\n",
    "#print(chars)\n",
    "DATA_LENGTH = int(len(data) / SEQ_LENGTH) \n",
    "#print(DATA_LENGTH, len(data))"
   ]
  },
  {
   "cell_type": "code",
   "execution_count": 18,
   "metadata": {},
   "outputs": [],
   "source": [
    "X = numpy.zeros((DATA_LENGTH, SEQ_LENGTH, VOCAB_SIZE))\n",
    "y = numpy.zeros((DATA_LENGTH, SEQ_LENGTH, VOCAB_SIZE))\n",
    "for i in range(0, DATA_LENGTH):\n",
    "    X_sequence = data[i*SEQ_LENGTH:(i+1)*SEQ_LENGTH]\n",
    "    X_sequence_ix = [char_to_ix[value] for value in X_sequence]\n",
    "    input_sequence = numpy.zeros((SEQ_LENGTH, VOCAB_SIZE))\n",
    "    for j in range(SEQ_LENGTH):\n",
    "        input_sequence[j][X_sequence_ix[j]] = 1.\n",
    "    X[i] = input_sequence\n",
    "\n",
    "    y_sequence = data[i*SEQ_LENGTH+1:(i+1)*SEQ_LENGTH+1]\n",
    "    y_sequence_ix = [char_to_ix[value] for value in y_sequence]\n",
    "    target_sequence = numpy.zeros((SEQ_LENGTH, VOCAB_SIZE))\n",
    "    for j in range(SEQ_LENGTH):\n",
    "        target_sequence[j][y_sequence_ix[j]] = 1.\n",
    "    y[i] = target_sequence"
   ]
  },
  {
   "cell_type": "code",
   "execution_count": 21,
   "metadata": {},
   "outputs": [],
   "source": [
    "model = Sequential()\n",
    "model.add(LSTM(50, input_shape=(None, VOCAB_SIZE), return_sequences=True))\n",
    "model.add(TimeDistributed(Dense(VOCAB_SIZE, activation='softmax')))\n",
    "model.compile(loss='categorical_crossentropy', optimizer='adam')"
   ]
  },
  {
   "cell_type": "code",
   "execution_count": null,
   "metadata": {},
   "outputs": [
    {
     "name": "stderr",
     "output_type": "stream",
     "text": [
      "C:\\Program Files (x86)\\Microsoft Visual Studio\\Shared\\Anaconda3_64\\lib\\site-packages\\ipykernel_launcher.py:1: UserWarning: The `nb_epoch` argument in `fit` has been renamed `epochs`.\n",
      "  \"\"\"Entry point for launching an IPython kernel.\n"
     ]
    },
    {
     "name": "stdout",
     "output_type": "stream",
     "text": [
      "Epoch 1/1\n",
      " 49217/270749 [====>.........................] - ETA: 22:11 - loss: 0.9233"
     ]
    }
   ],
   "source": [
    "model.fit(X, y, batch_size=1, verbose=1, nb_epoch=1)"
   ]
  },
  {
   "cell_type": "code",
   "execution_count": null,
   "metadata": {},
   "outputs": [],
   "source": []
  }
 ],
 "metadata": {
  "kernelspec": {
   "display_name": "Python 3",
   "language": "python",
   "name": "python3"
  },
  "language_info": {
   "codemirror_mode": {
    "name": "ipython",
    "version": 3
   },
   "file_extension": ".py",
   "mimetype": "text/x-python",
   "name": "python",
   "nbconvert_exporter": "python",
   "pygments_lexer": "ipython3",
   "version": "3.6.4"
  }
 },
 "nbformat": 4,
 "nbformat_minor": 2
}

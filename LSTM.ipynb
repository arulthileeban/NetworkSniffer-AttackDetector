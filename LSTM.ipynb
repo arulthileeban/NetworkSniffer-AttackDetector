{
 "cells": [
  {
   "cell_type": "code",
   "execution_count": 2,
   "metadata": {},
   "outputs": [
    {
     "name": "stderr",
     "output_type": "stream",
     "text": [
      "Using TensorFlow backend.\n"
     ]
    }
   ],
   "source": [
    "import re\n",
    "import string\n",
    "import numpy\n",
    "from keras.models import Sequential\n",
    "from keras.layers import LSTM\n",
    "from keras.layers import Masking\n",
    "from keras.layers import Dense\n",
    "from keras.layers import TimeDistributed"
   ]
  },
  {
   "cell_type": "code",
   "execution_count": 3,
   "metadata": {},
   "outputs": [],
   "source": [
    "with open('normalTrafficTraining.txt') as f:\n",
    "    arr = f.readlines()\n",
    "    content = ''.join(arr)\n",
    "    items = re.findall(\"^GET.*|POST.*$\", content, re.MULTILINE)\n",
    "    data = \"\"\n",
    "    for item in items:\n",
    "        temp_data = item.replace(\" HTTP/1.1\",\"\").lower()\n",
    "        data = data + temp_data + \"\\n\""
   ]
  },
  {
   "cell_type": "code",
   "execution_count": 4,
   "metadata": {},
   "outputs": [],
   "source": [
    "chars = list(set(data + string.punctuation + string.ascii_lowercase + ' ' + string.digits))\n",
    "VOCAB_SIZE = len(chars)\n",
    "ix_to_char = {ix:char for ix, char in enumerate(chars)}\n",
    "char_to_ix = {char:ix for ix, char in enumerate(chars)}\n",
    "SEQ_LENGTH = 10\n",
    "#print(chars)\n",
    "DATA_LENGTH = int(len(data) / SEQ_LENGTH) \n",
    "#print(DATA_LENGTH, len(data))"
   ]
  },
  {
   "cell_type": "code",
   "execution_count": 5,
   "metadata": {},
   "outputs": [],
   "source": [
    "X = numpy.zeros((DATA_LENGTH, SEQ_LENGTH, VOCAB_SIZE))\n",
    "y = numpy.zeros((DATA_LENGTH, SEQ_LENGTH, VOCAB_SIZE))\n",
    "for i in range(0, DATA_LENGTH):\n",
    "    X_sequence = data[i*SEQ_LENGTH:(i+1)*SEQ_LENGTH]\n",
    "    X_sequence_ix = [char_to_ix[value] for value in X_sequence]\n",
    "    input_sequence = numpy.zeros((SEQ_LENGTH, VOCAB_SIZE))\n",
    "    for j in range(SEQ_LENGTH):\n",
    "        input_sequence[j][X_sequence_ix[j]] = 1.\n",
    "    X[i] = input_sequence\n",
    "\n",
    "    y_sequence = data[i*SEQ_LENGTH+1:(i+1)*SEQ_LENGTH+1]\n",
    "    y_sequence_ix = [char_to_ix[value] for value in y_sequence]\n",
    "    target_sequence = numpy.zeros((SEQ_LENGTH, VOCAB_SIZE))\n",
    "    for j in range(SEQ_LENGTH):\n",
    "        target_sequence[j][y_sequence_ix[j]] = 1.\n",
    "    y[i] = target_sequence"
   ]
  },
  {
   "cell_type": "code",
   "execution_count": 7,
   "metadata": {},
   "outputs": [],
   "source": [
    "model = Sequential()\n",
    "model.add(LSTM(50, input_shape=(None, VOCAB_SIZE), return_sequences=True))\n",
    "model.add(TimeDistributed(Dense(VOCAB_SIZE, activation='softmax')))\n",
    "model.compile(loss='categorical_crossentropy', optimizer='adam')"
   ]
  },
  {
   "cell_type": "code",
   "execution_count": 8,
   "metadata": {},
   "outputs": [
    {
     "name": "stderr",
     "output_type": "stream",
     "text": [
      "/usr/local/lib/python3.5/dist-packages/ipykernel_launcher.py:1: UserWarning: The `nb_epoch` argument in `fit` has been renamed `epochs`.\n",
      "  \"\"\"Entry point for launching an IPython kernel.\n"
     ]
    },
    {
     "name": "stdout",
     "output_type": "stream",
     "text": [
      "Epoch 1/1\n",
      "270749/270749 [==============================] - 1937s 7ms/step - loss: 0.6886\n"
     ]
    },
    {
     "data": {
      "text/plain": [
       "<keras.callbacks.History at 0x7fbfd2df46a0>"
      ]
     },
     "execution_count": 8,
     "metadata": {},
     "output_type": "execute_result"
    }
   ],
   "source": [
    "model.fit(X, y, batch_size=1, verbose=1, nb_epoch=1)"
   ]
  },
  {
   "cell_type": "code",
   "execution_count": 9,
   "metadata": {},
   "outputs": [],
   "source": [
    "model.save('LSTMmodel.h5')"
   ]
  },
  {
   "cell_type": "code",
   "execution_count": 85,
   "metadata": {},
   "outputs": [],
   "source": [
    "data=[]\n",
    "with open('normalTrafficTest.txt') as f:\n",
    "    arr = f.readlines()\n",
    "    content = ''.join(arr)\n",
    "    items = re.findall(\"^GET.*|POST.*$\", content, re.MULTILINE)\n",
    "    for item in items:\n",
    "        temp_data = item.replace(\" HTTP/1.1\",\"\").lower()\n",
    "        data.append(temp_data)"
   ]
  },
  {
   "cell_type": "code",
   "execution_count": 87,
   "metadata": {},
   "outputs": [
    {
     "name": "stdout",
     "output_type": "stream",
     "text": [
      "get http://localhost:8080/tienda1/index.jsp\n",
      "get http://localhost:8080/tienda1/publico/anadir.jsp?id=1&nombre=jam%f3n+ib%e9rico&precio=39&cantidad=41&b1=a%f1adir+al+carrito\n",
      "post http://localhost:8080/tienda1/publico/anadir.jsp\n",
      "get http://localhost:8080/tienda1/publico/autenticar.jsp?modo=entrar&login=caria&pwd=egipciaca&remember=off&b1=entrar\n",
      "post http://localhost:8080/tienda1/publico/autenticar.jsp\n",
      "get http://localhost:8080/tienda1/publico/caracteristicas.jsp?id=2\n",
      "post http://localhost:8080/tienda1/publico/caracteristicas.jsp\n",
      "get http://localhost:8080/tienda1/publico/carrito.jsp\n",
      "get http://localhost:8080/tienda1/publico/entrar.jsp?errormsg=credenciales+incorrectas\n",
      "post http://localhost:8080/tienda1/publico/entrar.jsp\n",
      "get http://localhost:8080/tienda1/publico/miembros.jsp\n",
      "get http://localhost:8080/tienda1/publico/pagar.jsp?modo=insertar&precio=3230&b1=pasar+por+caja\n",
      "post http://localhost:8080/tienda1/publico/pagar.jsp\n",
      "get http://localhost:8080/tienda1/publico/productos.jsp\n",
      "get http://localhost:8080/tienda1/publico/registro.jsp?modo=registro&login=minthorn&password=ahorquillado&nombre=isra%e9l&apellidos=luna+barberan&email=pouyet%40mcrspain.mh&dni=83073375c&direccion=calle+pamplona%2c+26+&ciudad=arrankudiaga&cp=49740&provincia=huesca&ntc=2656905158370014&b1=registrar\n",
      "post http://localhost:8080/tienda1/publico/registro.jsp\n",
      "get http://localhost:8080/tienda1/publico/vaciar.jsp?b2=vaciar+carrito\n",
      "post http://localhost:8080/tienda1/publico/vaciar.jsp\n",
      "get http://localhost:8080/tienda1/global/creditos.jsp\n",
      "get http://localhost:8080/tienda1/global/menum.jsp\n",
      "get http://localhost:8080/tienda1/global/titulo.jsp\n",
      "get http://localhost:8080/tienda1/global/estilos.css\n",
      "get http://localhost:8080/tienda1/miembros/imagenes/castro.jpg\n",
      "get http://localhost:8080/tienda1/miembros/imagenes/ogono.jpg\n",
      "get http://localhost:8080/tienda1/miembros/imagenes/zarauz.jpg\n",
      "get http://localhost:8080/tienda1/miembros/index.jsp\n",
      "get http://localhost:8080/tienda1/miembros/editar.jsp?modo=registro&login=nataraja&password=d4upa&nombre=zoraida&apellidos=heras+del+moral&email=lowry-carmine%40filtraciondehumos.nc&dni=69549902h&direccion=c%2f+albercuix%2c+27%2c+&ciudad=%c1greda&cp=50369&provincia=ourense&ntc=0017018534732457&b1=registrar\n",
      "post http://localhost:8080/tienda1/miembros/editar.jsp\n",
      "get http://localhost:8080/tienda1/miembros/fotos.jsp\n",
      "get http://localhost:8080/tienda1/miembros/salir.jsp\n",
      "get http://localhost:8080/tienda1/imagenes/1.gif\n",
      "get http://localhost:8080/tienda1/imagenes/2.gif\n",
      "get http://localhost:8080/tienda1/imagenes/3.gif\n",
      "get http://localhost:8080/tienda1/imagenes/cmenbul.gif\n",
      "get http://localhost:8080/tienda1/imagenes/logo.gif\n",
      "get http://localhost:8080/tienda1/imagenes/nuestratierra.jpg\n",
      "get http://localhost:8080/tienda1/index.jsp\n",
      "get http://localhost:8080/tienda1/publico/anadir.jsp?id=1&nombre=queso+manchego&precio=85&cantidad=65&b1=a%f1adir+al+carrito\n",
      "post http://localhost:8080/tienda1/publico/anadir.jsp\n",
      "get http://localhost:8080/tienda1/publico/autenticar.jsp?modo=entrar&login=frayda&pwd=422rdo&remember=off&b1=entrar\n",
      "post http://localhost:8080/tienda1/publico/autenticar.jsp\n",
      "get http://localhost:8080/tienda1/publico/caracteristicas.jsp?id=1\n",
      "post http://localhost:8080/tienda1/publico/caracteristicas.jsp\n",
      "get http://localhost:8080/tienda1/publico/carrito.jsp\n",
      "get http://localhost:8080/tienda1/publico/entrar.jsp?errormsg=credenciales+incorrectas\n",
      "post http://localhost:8080/tienda1/publico/entrar.jsp\n",
      "get http://localhost:8080/tienda1/publico/miembros.jsp\n",
      "get http://localhost:8080/tienda1/publico/pagar.jsp?modo=insertar&precio=9894&b1=confirmar\n",
      "post http://localhost:8080/tienda1/publico/pagar.jsp\n",
      "get http://localhost:8080/tienda1/publico/productos.jsp\n"
     ]
    }
   ],
   "source": [
    "\n",
    "for seq in data[:50]:\n",
    "    print (seq)\n",
    "    probability=[]\n",
    "    X = numpy.zeros((1,len(seq),VOCAB_SIZE))\n",
    "    for i in range(1,len(seq),1):\n",
    "        ix = char_to_ix[seq[i-1]]\n",
    "        X[0,i,:][ix]=1\n",
    "        probability.append(model.predict(X[:,:i,:])[0][0][char_to_ix[seq[i]]])\n",
    "        #X = numpy.zeros((1,len(seq),VOCAB_SIZE))\n",
    "    #print(probability)\n",
    "    for i in probability:\n",
    "        if (i<0.0001):\n",
    "            print (i)\n",
    "    "
   ]
  },
  {
   "cell_type": "code",
   "execution_count": null,
   "metadata": {},
   "outputs": [],
   "source": [
    "#ix = [numpy.random.randint(VOCAB_SIZE)]\n",
    "#length = 100\n",
    "#y_char = [ix_to_char[ix[-1]]]\n",
    "#X = numpy.zeros((1,length,VOCAB_SIZE))\n",
    "#for i in range(5):\n",
    "#    X[0,i,:][ix[-1]]=1\n",
    "#    print(model.predict(X[:,:i+1,:]))"
   ]
  },
  {
   "cell_type": "code",
   "execution_count": null,
   "metadata": {},
   "outputs": [],
   "source": []
  }
 ],
 "metadata": {
  "kernelspec": {
   "display_name": "Python 3",
   "language": "python",
   "name": "python3"
  },
  "language_info": {
   "codemirror_mode": {
    "name": "ipython",
    "version": 3
   },
   "file_extension": ".py",
   "mimetype": "text/x-python",
   "name": "python",
   "nbconvert_exporter": "python",
   "pygments_lexer": "ipython3",
   "version": "3.5.2"
  }
 },
 "nbformat": 4,
 "nbformat_minor": 2
}
